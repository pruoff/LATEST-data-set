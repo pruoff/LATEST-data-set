{
 "cells": [
  {
   "cell_type": "code",
   "execution_count": 1,
   "metadata": {},
   "outputs": [],
   "source": [
    "import pandas as pd"
   ]
  },
  {
   "cell_type": "code",
   "execution_count": 68,
   "metadata": {
    "scrolled": true
   },
   "outputs": [],
   "source": [
    "df = pd.read_csv(filepath_or_buffer='data_collection_phase.csv')"
   ]
  },
  {
   "cell_type": "code",
   "execution_count": 69,
   "metadata": {},
   "outputs": [
    {
     "data": {
      "text/plain": [
       "Index(['index', 'floor_CO2', 'floor_temp', 'outside_cloudiness',\n",
       "       'outside_condition', 'outside_humidity', 'outside_pressure',\n",
       "       'outside_temperature', 'outside_wind_speed', 'U1_desk_hum',\n",
       "       'U1_desk_temp', 'U2_desk_hum', 'U2_desk_temp', 'U3_desk_hum',\n",
       "       'U3_desk_temp', 'corridor_hum', 'corridor_temp',\n",
       "       'U1_ambient_heater_temp', 'U2_ambient_heater_temp',\n",
       "       'U3_ambient_heater_temp', 'U1_galvanic_skin_response', 'U1_heart_rate',\n",
       "       'U1_skin_temp', 'U2_galvanic_skin_response', 'U2_heart_rate',\n",
       "       'U2_skin_temp', 'U3_galvanic_skin_response', 'U3_heart_rate',\n",
       "       'U3_skin_temp', 'U1_thermal_comfort_vote', 'U1_thermal_sensation_vote',\n",
       "       'U1_infrared_heater_switch', 'U2_thermal_comfort_vote',\n",
       "       'U2_thermal_sensation_vote', 'U2_infrared_heater_switch',\n",
       "       'U3_thermal_comfort_vote', 'U3_thermal_sensation_vote',\n",
       "       'U3_infrared_heater_switch'],\n",
       "      dtype='object')"
      ]
     },
     "execution_count": 69,
     "metadata": {},
     "output_type": "execute_result"
    }
   ],
   "source": [
    "df.columns"
   ]
  },
  {
   "cell_type": "code",
   "execution_count": 67,
   "metadata": {},
   "outputs": [],
   "source": [
    "df.to_csv('data_collection_phase.csv', index=False)"
   ]
  },
  {
   "cell_type": "code",
   "execution_count": 61,
   "metadata": {},
   "outputs": [
    {
     "data": {
      "text/plain": [
       "Index(['index', 'floor_CO2', 'floor_temp', 'outside_cloudiness',\n",
       "       'outside_condition', 'outside_humidity', 'outside_pressure',\n",
       "       'outside_temperature', 'outside_wind_speed', 'U1_desk_hum',\n",
       "       'U1_desk_temp', 'U2_desk_hum', 'U2_desk_temp', 'U3_desk_hum',\n",
       "       'U3_desk_temp', 'corridor_hum', 'corridor_temp',\n",
       "       'U1_ambient_heater_temp', 'U2_ambient_heater_temp',\n",
       "       'U3_ambient_heater_temp', 'U1_galvanic_skin_response', 'U1_heart_rate',\n",
       "       'U1_skin_temp', 'U2_galvanic_skin_response', 'U2_heart_rate',\n",
       "       'U2_skin_temp', 'U3_galvanic_skin_response', 'U3_heart_rate',\n",
       "       'U3_skin_temp', 'U1_thermal_comfort_vote', 'U1_thermal_sensation_vote',\n",
       "       'U1_infrared_heater_switch', 'U2_thermal_comfort_vote',\n",
       "       'U2_thermal_sensation_vote', 'U2_infrared_heater_switch',\n",
       "       'U3_thermal_comfort_vote', 'U3_thermal_sensation_vote',\n",
       "       'U3_infrared_heater_switch', 'U1_last_command_encoded',\n",
       "       'U2_last_command_encoded', 'U3_last_command_encoded'],\n",
       "      dtype='object')"
      ]
     },
     "execution_count": 61,
     "metadata": {},
     "output_type": "execute_result"
    }
   ],
   "source": [
    "data.columns"
   ]
  },
  {
   "cell_type": "code",
   "execution_count": 72,
   "metadata": {},
   "outputs": [
    {
     "data": {
      "text/plain": [
       "41"
      ]
     },
     "execution_count": 72,
     "metadata": {},
     "output_type": "execute_result"
    }
   ],
   "source": [
    "len(data.columns)"
   ]
  },
  {
   "cell_type": "code",
   "execution_count": 60,
   "metadata": {},
   "outputs": [
    {
     "ename": "ValueError",
     "evalue": "operands could not be broadcast together with shapes (41,) (39,) ",
     "output_type": "error",
     "traceback": [
      "\u001b[0;31m---------------------------------------------------------------------------\u001b[0m",
      "\u001b[0;31mValueError\u001b[0m                                Traceback (most recent call last)",
      "\u001b[0;32m<ipython-input-60-b8c616c38364>\u001b[0m in \u001b[0;36m<module>\u001b[0;34m\u001b[0m\n\u001b[0;32m----> 1\u001b[0;31m \u001b[0mdata\u001b[0m\u001b[0;34m.\u001b[0m\u001b[0mcolumns\u001b[0m\u001b[0;34m.\u001b[0m\u001b[0mvalues\u001b[0m \u001b[0;34m-\u001b[0m \u001b[0mdf\u001b[0m\u001b[0;34m.\u001b[0m\u001b[0mcolumns\u001b[0m\u001b[0;34m.\u001b[0m\u001b[0mvalues\u001b[0m\u001b[0;34m\u001b[0m\u001b[0;34m\u001b[0m\u001b[0m\n\u001b[0m",
      "\u001b[0;31mValueError\u001b[0m: operands could not be broadcast together with shapes (41,) (39,) "
     ]
    }
   ],
   "source": [
    "data.columns.values df.columns.values"
   ]
  },
  {
   "cell_type": "code",
   "execution_count": 28,
   "metadata": {
    "scrolled": true
   },
   "outputs": [
    {
     "data": {
      "text/plain": [
       "48960"
      ]
     },
     "execution_count": 28,
     "metadata": {},
     "output_type": "execute_result"
    }
   ],
   "source": [
    "len(df)"
   ]
  },
  {
   "cell_type": "code",
   "execution_count": 35,
   "metadata": {
    "scrolled": true
   },
   "outputs": [
    {
     "data": {
      "text/html": [
       "<div>\n",
       "<style scoped>\n",
       "    .dataframe tbody tr th:only-of-type {\n",
       "        vertical-align: middle;\n",
       "    }\n",
       "\n",
       "    .dataframe tbody tr th {\n",
       "        vertical-align: top;\n",
       "    }\n",
       "\n",
       "    .dataframe thead th {\n",
       "        text-align: right;\n",
       "    }\n",
       "</style>\n",
       "<table border=\"1\" class=\"dataframe\">\n",
       "  <thead>\n",
       "    <tr style=\"text-align: right;\">\n",
       "      <th></th>\n",
       "      <th>U2_skin_temp</th>\n",
       "      <th>U3_galvanic_skin_response</th>\n",
       "      <th>U3_heart_rate</th>\n",
       "      <th>U3_skin_temp</th>\n",
       "      <th>U1_thermal_comfort_vote</th>\n",
       "      <th>U1_thermal_sensation_vote</th>\n",
       "      <th>U1_infrared_heater_switch</th>\n",
       "      <th>U2_thermal_comfort_vote</th>\n",
       "      <th>U2_thermal_sensation_vote</th>\n",
       "      <th>U2_infrared_heater_switch</th>\n",
       "      <th>U3_thermal_comfort_vote</th>\n",
       "      <th>U3_thermal_sensation_vote</th>\n",
       "      <th>U3_infrared_heater_switch</th>\n",
       "      <th>U1_last_command_encoded</th>\n",
       "      <th>U2_last_command_encoded</th>\n",
       "      <th>U3_last_command_encoded</th>\n",
       "    </tr>\n",
       "  </thead>\n",
       "  <tbody>\n",
       "    <tr>\n",
       "      <th>count</th>\n",
       "      <td>2375.000000</td>\n",
       "      <td>10263.000000</td>\n",
       "      <td>10275.000000</td>\n",
       "      <td>9954.000000</td>\n",
       "      <td>37.0</td>\n",
       "      <td>37.0</td>\n",
       "      <td>0.0</td>\n",
       "      <td>68.000000</td>\n",
       "      <td>68.00000</td>\n",
       "      <td>25.000000</td>\n",
       "      <td>349.000000</td>\n",
       "      <td>349.000000</td>\n",
       "      <td>66.000000</td>\n",
       "      <td>9645.000000</td>\n",
       "      <td>7438.000000</td>\n",
       "      <td>13187.000000</td>\n",
       "    </tr>\n",
       "    <tr>\n",
       "      <th>mean</th>\n",
       "      <td>30.445882</td>\n",
       "      <td>185569.161551</td>\n",
       "      <td>69.683990</td>\n",
       "      <td>29.075401</td>\n",
       "      <td>1.0</td>\n",
       "      <td>2.0</td>\n",
       "      <td>NaN</td>\n",
       "      <td>1.294118</td>\n",
       "      <td>1.50000</td>\n",
       "      <td>0.440000</td>\n",
       "      <td>1.131805</td>\n",
       "      <td>1.793696</td>\n",
       "      <td>0.469697</td>\n",
       "      <td>-0.588284</td>\n",
       "      <td>-0.801022</td>\n",
       "      <td>-0.231516</td>\n",
       "    </tr>\n",
       "    <tr>\n",
       "      <th>std</th>\n",
       "      <td>1.602985</td>\n",
       "      <td>161378.818886</td>\n",
       "      <td>4.753767</td>\n",
       "      <td>2.790028</td>\n",
       "      <td>0.0</td>\n",
       "      <td>0.0</td>\n",
       "      <td>NaN</td>\n",
       "      <td>0.490471</td>\n",
       "      <td>0.70181</td>\n",
       "      <td>0.506623</td>\n",
       "      <td>0.378810</td>\n",
       "      <td>0.452154</td>\n",
       "      <td>0.502905</td>\n",
       "      <td>0.499697</td>\n",
       "      <td>0.421538</td>\n",
       "      <td>0.608361</td>\n",
       "    </tr>\n",
       "    <tr>\n",
       "      <th>min</th>\n",
       "      <td>24.680000</td>\n",
       "      <td>294.000000</td>\n",
       "      <td>52.000000</td>\n",
       "      <td>22.510000</td>\n",
       "      <td>1.0</td>\n",
       "      <td>2.0</td>\n",
       "      <td>NaN</td>\n",
       "      <td>0.000000</td>\n",
       "      <td>0.00000</td>\n",
       "      <td>0.000000</td>\n",
       "      <td>0.000000</td>\n",
       "      <td>0.000000</td>\n",
       "      <td>0.000000</td>\n",
       "      <td>-3.000000</td>\n",
       "      <td>-3.000000</td>\n",
       "      <td>-3.000000</td>\n",
       "    </tr>\n",
       "    <tr>\n",
       "      <th>25%</th>\n",
       "      <td>29.410000</td>\n",
       "      <td>13321.000000</td>\n",
       "      <td>67.000000</td>\n",
       "      <td>28.380000</td>\n",
       "      <td>1.0</td>\n",
       "      <td>2.0</td>\n",
       "      <td>NaN</td>\n",
       "      <td>1.000000</td>\n",
       "      <td>1.00000</td>\n",
       "      <td>0.000000</td>\n",
       "      <td>1.000000</td>\n",
       "      <td>2.000000</td>\n",
       "      <td>0.000000</td>\n",
       "      <td>-1.000000</td>\n",
       "      <td>-1.000000</td>\n",
       "      <td>-1.000000</td>\n",
       "    </tr>\n",
       "    <tr>\n",
       "      <th>50%</th>\n",
       "      <td>30.660000</td>\n",
       "      <td>340330.000000</td>\n",
       "      <td>70.000000</td>\n",
       "      <td>29.540000</td>\n",
       "      <td>1.0</td>\n",
       "      <td>2.0</td>\n",
       "      <td>NaN</td>\n",
       "      <td>1.000000</td>\n",
       "      <td>2.00000</td>\n",
       "      <td>0.000000</td>\n",
       "      <td>1.000000</td>\n",
       "      <td>2.000000</td>\n",
       "      <td>0.000000</td>\n",
       "      <td>-1.000000</td>\n",
       "      <td>-1.000000</td>\n",
       "      <td>0.000000</td>\n",
       "    </tr>\n",
       "    <tr>\n",
       "      <th>75%</th>\n",
       "      <td>31.505000</td>\n",
       "      <td>340330.000000</td>\n",
       "      <td>72.000000</td>\n",
       "      <td>31.117500</td>\n",
       "      <td>1.0</td>\n",
       "      <td>2.0</td>\n",
       "      <td>NaN</td>\n",
       "      <td>2.000000</td>\n",
       "      <td>2.00000</td>\n",
       "      <td>1.000000</td>\n",
       "      <td>1.000000</td>\n",
       "      <td>2.000000</td>\n",
       "      <td>1.000000</td>\n",
       "      <td>0.000000</td>\n",
       "      <td>-1.000000</td>\n",
       "      <td>0.000000</td>\n",
       "    </tr>\n",
       "    <tr>\n",
       "      <th>max</th>\n",
       "      <td>33.560000</td>\n",
       "      <td>340330.000000</td>\n",
       "      <td>123.000000</td>\n",
       "      <td>33.550000</td>\n",
       "      <td>1.0</td>\n",
       "      <td>2.0</td>\n",
       "      <td>NaN</td>\n",
       "      <td>2.000000</td>\n",
       "      <td>3.00000</td>\n",
       "      <td>1.000000</td>\n",
       "      <td>2.000000</td>\n",
       "      <td>2.000000</td>\n",
       "      <td>1.000000</td>\n",
       "      <td>0.000000</td>\n",
       "      <td>2.000000</td>\n",
       "      <td>2.000000</td>\n",
       "    </tr>\n",
       "  </tbody>\n",
       "</table>\n",
       "</div>"
      ],
      "text/plain": [
       "       U2_skin_temp  U3_galvanic_skin_response  U3_heart_rate  U3_skin_temp  \\\n",
       "count   2375.000000               10263.000000   10275.000000   9954.000000   \n",
       "mean      30.445882              185569.161551      69.683990     29.075401   \n",
       "std        1.602985              161378.818886       4.753767      2.790028   \n",
       "min       24.680000                 294.000000      52.000000     22.510000   \n",
       "25%       29.410000               13321.000000      67.000000     28.380000   \n",
       "50%       30.660000              340330.000000      70.000000     29.540000   \n",
       "75%       31.505000              340330.000000      72.000000     31.117500   \n",
       "max       33.560000              340330.000000     123.000000     33.550000   \n",
       "\n",
       "       U1_thermal_comfort_vote  U1_thermal_sensation_vote  \\\n",
       "count                     37.0                       37.0   \n",
       "mean                       1.0                        2.0   \n",
       "std                        0.0                        0.0   \n",
       "min                        1.0                        2.0   \n",
       "25%                        1.0                        2.0   \n",
       "50%                        1.0                        2.0   \n",
       "75%                        1.0                        2.0   \n",
       "max                        1.0                        2.0   \n",
       "\n",
       "       U1_infrared_heater_switch  U2_thermal_comfort_vote  \\\n",
       "count                        0.0                68.000000   \n",
       "mean                         NaN                 1.294118   \n",
       "std                          NaN                 0.490471   \n",
       "min                          NaN                 0.000000   \n",
       "25%                          NaN                 1.000000   \n",
       "50%                          NaN                 1.000000   \n",
       "75%                          NaN                 2.000000   \n",
       "max                          NaN                 2.000000   \n",
       "\n",
       "       U2_thermal_sensation_vote  U2_infrared_heater_switch  \\\n",
       "count                   68.00000                  25.000000   \n",
       "mean                     1.50000                   0.440000   \n",
       "std                      0.70181                   0.506623   \n",
       "min                      0.00000                   0.000000   \n",
       "25%                      1.00000                   0.000000   \n",
       "50%                      2.00000                   0.000000   \n",
       "75%                      2.00000                   1.000000   \n",
       "max                      3.00000                   1.000000   \n",
       "\n",
       "       U3_thermal_comfort_vote  U3_thermal_sensation_vote  \\\n",
       "count               349.000000                 349.000000   \n",
       "mean                  1.131805                   1.793696   \n",
       "std                   0.378810                   0.452154   \n",
       "min                   0.000000                   0.000000   \n",
       "25%                   1.000000                   2.000000   \n",
       "50%                   1.000000                   2.000000   \n",
       "75%                   1.000000                   2.000000   \n",
       "max                   2.000000                   2.000000   \n",
       "\n",
       "       U3_infrared_heater_switch  U1_last_command_encoded  \\\n",
       "count                  66.000000              9645.000000   \n",
       "mean                    0.469697                -0.588284   \n",
       "std                     0.502905                 0.499697   \n",
       "min                     0.000000                -3.000000   \n",
       "25%                     0.000000                -1.000000   \n",
       "50%                     0.000000                -1.000000   \n",
       "75%                     1.000000                 0.000000   \n",
       "max                     1.000000                 0.000000   \n",
       "\n",
       "       U2_last_command_encoded  U3_last_command_encoded  \n",
       "count              7438.000000             13187.000000  \n",
       "mean                 -0.801022                -0.231516  \n",
       "std                   0.421538                 0.608361  \n",
       "min                  -3.000000                -3.000000  \n",
       "25%                  -1.000000                -1.000000  \n",
       "50%                  -1.000000                 0.000000  \n",
       "75%                  -1.000000                 0.000000  \n",
       "max                   2.000000                 2.000000  "
      ]
     },
     "execution_count": 35,
     "metadata": {},
     "output_type": "execute_result"
    }
   ],
   "source": [
    "df[df.columns[25:]].describe()"
   ]
  }
 ],
 "metadata": {
  "kernelspec": {
   "display_name": "Python 3",
   "language": "python",
   "name": "python3"
  },
  "language_info": {
   "codemirror_mode": {
    "name": "ipython",
    "version": 3
   },
   "file_extension": ".py",
   "mimetype": "text/x-python",
   "name": "python",
   "nbconvert_exporter": "python",
   "pygments_lexer": "ipython3",
   "version": "3.8.1"
  }
 },
 "nbformat": 4,
 "nbformat_minor": 4
}
